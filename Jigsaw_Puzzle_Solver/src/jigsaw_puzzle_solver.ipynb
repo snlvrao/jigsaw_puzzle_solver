{
 "cells": [
  {
   "cell_type": "code",
   "execution_count": 98,
   "metadata": {},
   "outputs": [],
   "source": [
    "# Import library modules\n",
    "\n",
    "import os\n",
    "import cv2\n",
    "import imutils\n",
    "import glob\n",
    "import numpy as np\n",
    "import math\n",
    "import matplotlib.pyplot as plt\n",
    "import scipy\n",
    "import scipy.ndimage as ndi\n",
    "from sklearn.metrics import mean_squared_error\n",
    "from scipy.signal import find_peaks\n",
    "from Img.filters import *\n",
    "from Puzzle.Puzzle import *\n",
    "from Puzzle.Enums import *"
   ]
  },
  {
   "cell_type": "code",
   "execution_count": 99,
   "metadata": {},
   "outputs": [],
   "source": [
    "import warnings\n",
    "warnings.filterwarnings(\"ignore\")"
   ]
  },
  {
   "cell_type": "code",
   "execution_count": 100,
   "metadata": {},
   "outputs": [],
   "source": [
    "# Read input image files\n",
    "\n",
    "filename = \"../images/input/*.jpg\"\n",
    "\n",
    "img_color = [cv2.imread(file, cv2.IMREAD_COLOR) for file in glob.glob(filename)][0]"
   ]
  },
  {
   "cell_type": "code",
   "execution_count": 101,
   "metadata": {},
   "outputs": [
    {
     "name": "stdout",
     "output_type": "stream",
     "text": [
      "No. of largest perimeter contours detected: 20\n"
     ]
    }
   ],
   "source": [
    "# Create binary mask for each image\n",
    "\n",
    "# The kernel to be used for dilation purpose\n",
    "kernel = np.ones((3, 3), np.uint8)\n",
    "  \n",
    "# defining the lower and upper values of HSV to detect green colour\n",
    "Lower_hsv = np.array([45, 10, 10])\n",
    "Upper_hsv = np.array([95, 255, 255])\n",
    "\n",
    "# converting the image to HSV format\n",
    "hsv = cv2.cvtColor(img_color, cv2.COLOR_BGR2HSV)\n",
    "\n",
    "# creating the mask by eroding, morphing, dilating process\n",
    "Mask = cv2.inRange(hsv, Lower_hsv, Upper_hsv)\n",
    "Mask = cv2.medianBlur(Mask, 21)\n",
    "Mask = cv2.erode(Mask, kernel, iterations=1)\n",
    "Mask = cv2.morphologyEx(Mask, cv2.MORPH_OPEN, kernel, iterations=1)\n",
    "Mask = cv2.dilate(Mask, kernel, iterations=1)\n",
    "\n",
    "# Inverting the mask by performing bitwise-not operation\n",
    "Mask = cv2.bitwise_not(Mask)\n",
    "img_mask = cv2.bitwise_and(img_color, img_color, mask=Mask)\n",
    "\n",
    "cv2.imwrite('../images/output/img_mask.jpg', img_mask)\n",
    "\n",
    "# Find contours\n",
    "\n",
    "contours, hierarchy = cv2.findContours(Mask, cv2.RETR_EXTERNAL, cv2.CHAIN_APPROX_NONE)\n",
    "\n",
    "contours_largest_perimeter = []\n",
    "\n",
    "contours = sorted(contours, key=cv2.contourArea, reverse=True)\n",
    "max_contour = contours[0].shape[0]\n",
    "contours_largest_perimeter = [contour for contour in contours if contour.shape[0] > max_contour / 3]\n",
    "\n",
    "puzzle_piece_cnt = len(contours_largest_perimeter)\n",
    "print(f'No. of largest perimeter contours detected: {puzzle_piece_cnt}')"
   ]
  },
  {
   "cell_type": "code",
   "execution_count": 102,
   "metadata": {},
   "outputs": [
    {
     "name": "stdout",
     "output_type": "stream",
     "text": [
      ">>> START solving puzzle\n",
      "Possible sizes: ( 20 pieces with 14 borders among them): [(4, 5), (5, 4)]\n",
      "Number of border pieces:  14\n",
      ">>> START solve border\n",
      "<--- New match ---> pieces left:  13 extremum: (0, 0, 1, 1) puzzle dimension: [(4, 5), (5, 4)]\n",
      "Placed: TypePiece.BORDER at (1, 0)\n",
      "<--- New match ---> pieces left:  12 extremum: (0, 0, 2, 1) puzzle dimension: [(4, 5), (5, 4)]\n",
      "Placed: TypePiece.BORDER at (2, 0)\n",
      "<--- New match ---> pieces left:  11 extremum: (0, 0, 3, 1) puzzle dimension: [(4, 5), (5, 4)]\n",
      "Update possible dimensions with extremum (0, 0, 4, 1) : [(5, 4)]\n",
      "Placed: TypePiece.BORDER at (3, 0)\n",
      "<--- New match ---> pieces left:  10 extremum: (0, 0, 4, 1) puzzle dimension: [(5, 4)]\n",
      "Placed: TypePiece.BORDER at (0, 1)\n",
      "<--- New match ---> pieces left:  9 extremum: (0, 0, 4, 2) puzzle dimension: [(5, 4)]\n",
      "Placed: TypePiece.BORDER at (0, 2)\n",
      "<--- New match ---> pieces left:  8 extremum: (0, 0, 4, 3) puzzle dimension: [(5, 4)]\n",
      "Placed: TypePiece.ANGLE at (0, 3)\n",
      "<--- New match ---> pieces left:  7 extremum: (0, 0, 4, 3) puzzle dimension: [(5, 4)]\n",
      "Placed: TypePiece.BORDER at (1, 3)\n",
      "<--- New match ---> pieces left:  6 extremum: (0, 0, 4, 3) puzzle dimension: [(5, 4)]\n",
      "Placed: TypePiece.BORDER at (2, 3)\n",
      "<--- New match ---> pieces left:  5 extremum: (0, 0, 4, 3) puzzle dimension: [(5, 4)]\n",
      "Placed: TypePiece.BORDER at (3, 3)\n",
      "<--- New match ---> pieces left:  4 extremum: (0, 0, 4, 3) puzzle dimension: [(5, 4)]\n",
      "Placed: TypePiece.ANGLE at (4, 3)\n",
      "<--- New match ---> pieces left:  3 extremum: (0, 0, 4, 3) puzzle dimension: [(5, 4)]\n",
      "Placed: TypePiece.BORDER at (4, 2)\n",
      "<--- New match ---> pieces left:  2 extremum: (0, 0, 4, 3) puzzle dimension: [(5, 4)]\n",
      "Placed: TypePiece.BORDER at (4, 1)\n",
      "<--- New match ---> pieces left:  1 extremum: (0, 0, 4, 3) puzzle dimension: [(5, 4)]\n",
      "Placed: TypePiece.ANGLE at (4, 0)\n",
      ">>> START solve middle\n",
      "<--- New match ---> pieces left:  6 extremum: (0, 0, 4, 3) puzzle dimension: [(5, 4)]\n",
      "Placed: TypePiece.CENTER at (3, 1)\n",
      "<--- New match ---> pieces left:  5 extremum: (0, 0, 4, 3) puzzle dimension: [(5, 4)]\n",
      "Fall back to a worst Strategy.FILL\n",
      "Placed: TypePiece.CENTER at (1, 2)\n",
      "<--- New match ---> pieces left:  4 extremum: (0, 0, 4, 3) puzzle dimension: [(5, 4)]\n",
      "Placed: TypePiece.CENTER at (1, 1)\n",
      "<--- New match ---> pieces left:  3 extremum: (0, 0, 4, 3) puzzle dimension: [(5, 4)]\n",
      "Placed: TypePiece.CENTER at (2, 1)\n",
      "<--- New match ---> pieces left:  2 extremum: (0, 0, 4, 3) puzzle dimension: [(5, 4)]\n",
      "Placed: TypePiece.CENTER at (2, 2)\n",
      "<--- New match ---> pieces left:  1 extremum: (0, 0, 4, 3) puzzle dimension: [(5, 4)]\n",
      "Fall back to a worst Strategy.FILL\n",
      "Fall back to a worst Strategy.FILL\n",
      "Fail to solve the puzzle with Strategy.FILL falling back to Strategy.NAIVE\n",
      "Placed: TypePiece.CENTER at (3, 2)\n",
      ">>> SAVING result...\n"
     ]
    },
    {
     "data": {
      "text/plain": [
       "<Puzzle.Puzzle.Puzzle at 0x208b00fe680>"
      ]
     },
     "execution_count": 102,
     "metadata": {},
     "output_type": "execute_result"
    }
   ],
   "source": [
    "# Solve puzzle\n",
    "\n",
    "Puzzle(img_mask, Mask, contours_largest_perimeter)"
   ]
  }
 ],
 "metadata": {
  "kernelspec": {
   "display_name": "Python 3.10.6 64-bit",
   "language": "python",
   "name": "python3"
  },
  "language_info": {
   "codemirror_mode": {
    "name": "ipython",
    "version": 3
   },
   "file_extension": ".py",
   "mimetype": "text/x-python",
   "name": "python",
   "nbconvert_exporter": "python",
   "pygments_lexer": "ipython3",
   "version": "3.10.6"
  },
  "orig_nbformat": 4,
  "vscode": {
   "interpreter": {
    "hash": "5d3a4d144ed75eaf04aa022f4b8d057013237737dc3c19818732053c21ac8f1e"
   }
  }
 },
 "nbformat": 4,
 "nbformat_minor": 2
}
